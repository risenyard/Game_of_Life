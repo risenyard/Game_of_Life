{
 "cells": [
  {
   "cell_type": "code",
   "execution_count": 60,
   "metadata": {},
   "outputs": [],
   "source": [
    "import time\n",
    "import numpy as np\n",
    "import dask.array as da\n",
    "\n",
    "# Read the grid in the text file\n",
    "def load_grid_from_file(input_file):\n",
    "    # Initialize an empty grid, width and height\n",
    "    grid = []\n",
    "    # Read positions of living cells and update the grid\n",
    "    for line in input_file:\n",
    "        row = line.split()\n",
    "        row = list(map(int, row))\n",
    "        grid.append(row)\n",
    "        \n",
    "    grid = np.array(grid)\n",
    "    return grid\n",
    "\n",
    "# save the grid to the text file\n",
    "def save_grid_to_file(output_file, grid):\n",
    "    for row in grid:\n",
    "        for cell in row:\n",
    "            output_file.write(str(cell)+\" \")\n",
    "        output_file.write('\\n')\n",
    "\n",
    "# to calculate the alive neighbors\n",
    "def count_live_neighbors(grid, x, y, width, height):\n",
    "    # the neighbor matrix\n",
    "    neighbors = np.array([\n",
    "        (-1, -1), (-1, 0), (-1, 1),\n",
    "        (0, -1),           (0, 1),\n",
    "        (1, -1),  (1, 0),  (1, 1)\n",
    "    ])\n",
    "    # initialize the count\n",
    "    count = 0\n",
    "    # loop all possible neighbors\n",
    "    for dx, dy in neighbors:\n",
    "        nx, ny = x + dx, y + dy\n",
    "        # if its neighbor doesn't go beyond the boundary and is alive \n",
    "        if 0 <= nx < width and 0 <= ny < height and grid[ny][nx]==1:\n",
    "            count += 1\n",
    "\n",
    "    return count\n",
    "\n",
    "# update the gird\n",
    "def update_grid(grid):\n",
    "    # Get height and width\n",
    "    height = len(grid)\n",
    "    width = len(grid[0])\n",
    "    new_grid = np.array([[0] * width for _ in range(height)])\n",
    "\n",
    "    #apply the rule\n",
    "    for y in range(height):\n",
    "        for x in range(width):\n",
    "            live_neighbors = count_live_neighbors(grid, x, y, width, height)\n",
    "\n",
    "            if grid[y][x] == 1:\n",
    "                # Live cell\n",
    "                if live_neighbors == 2 or live_neighbors == 3:\n",
    "                    new_grid[y][x] = 1\n",
    "            else:\n",
    "                # Dead cell\n",
    "                if live_neighbors == 3:\n",
    "                    new_grid[y][x] = 1\n",
    "\n",
    "    return new_grid\n",
    "\n",
    "# run the game\n",
    "def run_game(input_name, output_name, generations):\n",
    "    with open(input_name, 'r') as input_file:\n",
    "        grid = load_grid_from_file(input_file)\n",
    "    # construct dask array\n",
    "    \n",
    "    \n",
    "    start = time.time()\n",
    "    for _ in range(generations):\n",
    "        #grid = update_grid(grid)\n",
    "        # Dask compute\n",
    "        grid_da = da.from_array(grid, chunks=(2, 2))\n",
    "        grid_da_n = grid_da.map_overlap(update_grid, depth=1, boundary=\"none\")\n",
    "        grid = grid_da_n.compute()\n",
    "\n",
    "       # print(\"{} seconds elapsed for {} generations.\".format(round(time.time() - start, 5), _))\n",
    "\n",
    "    with open(output_name, 'w') as output_file:\n",
    "        save_grid_to_file(output_file, grid)\n",
    "    return grid\n"
   ]
  },
  {
   "cell_type": "code",
   "execution_count": 61,
   "metadata": {},
   "outputs": [
    {
     "name": "stdout",
     "output_type": "stream",
     "text": [
      "[[0 0 0 0 0]\n",
      " [0 0 0 0 0]\n",
      " [0 0 1 1 0]\n",
      " [0 0 1 1 0]\n",
      " [0 0 0 0 0]]\n"
     ]
    }
   ],
   "source": [
    "## main function\n",
    "if __name__ == \"__main__\":\n",
    "    input_name = \"test_data/input.txt\"\n",
    "    output_name = \"test_data/output.txt\"\n",
    "    generations = 100\n",
    "    grid = run_game(input_name, output_name, generations)\n",
    "print(grid)"
   ]
  },
  {
   "cell_type": "code",
   "execution_count": null,
   "metadata": {},
   "outputs": [],
   "source": [
    "new_grid = np.array([[0] * 5 for _ in range(5)])"
   ]
  },
  {
   "cell_type": "code",
   "execution_count": null,
   "metadata": {},
   "outputs": [],
   "source": [
    "a_da_n = a_da.map_overlap(f, depth=1, boundary=0)"
   ]
  }
 ],
 "metadata": {
  "kernelspec": {
   "display_name": "Python 3",
   "language": "python",
   "name": "python3"
  },
  "language_info": {
   "codemirror_mode": {
    "name": "ipython",
    "version": 3
   },
   "file_extension": ".py",
   "mimetype": "text/x-python",
   "name": "python",
   "nbconvert_exporter": "python",
   "pygments_lexer": "ipython3",
   "version": "3.9.6"
  },
  "orig_nbformat": 4
 },
 "nbformat": 4,
 "nbformat_minor": 2
}
