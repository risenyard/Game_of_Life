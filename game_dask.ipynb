{
 "cells": [
  {
   "cell_type": "code",
<<<<<<< HEAD
   "execution_count": 38,
=======
   "execution_count": 1,
>>>>>>> 6a316ae4e1b24d09f6d3739fe3fcbd0766e7a80f
   "metadata": {},
   "outputs": [],
   "source": [
    "import time\n",
    "import numpy as np\n",
    "import dask.array as da\n",
    "import sys\n",
<<<<<<< HEAD
    "from dask.distributed import Client\n",
=======
>>>>>>> 6a316ae4e1b24d09f6d3739fe3fcbd0766e7a80f
    "\n",
    "# Read the grid in the text file\n",
    "def load_grid_from_file(input_file):\n",
    "    with open(input_file) as f:\n",
    "        width, height = map(int, f.readline().split())\n",
    "        # Make a grid with size of height and width\n",
    "        grid = []\n",
    "        for r in range(height):\n",
    "            grid.append([0] * width)\n",
    "        # Read the index into the grid\n",
    "        for line in f: \n",
    "            value= line.split() \n",
    "            if len(value) >= 2:\n",
    "                y, x = map(int, value[:2])\n",
    "                grid[y][x] = 1\n",
    "            else:\n",
    "                print(\"Line doesn't contain two values, check for floating lines at the bottom of file\")\n",
    "        grid = np.array(grid)\n",
    "    return grid\n",
    "\n",
    "# save the grid to the text file\n",
    "def save_grid_to_file(output_file, grid):\n",
    "    with open(output_file, \"w\") as f:\n",
    "        height = len(grid)\n",
    "        width = len(grid[0])\n",
    "        f.write(f\"{width} {height}\\n\")\n",
    "        for y, row in enumerate(grid):\n",
    "            for x, cell in enumerate(row):\n",
    "                if cell:\n",
    "                    f.write(f\"{y} {x}\\n\")\n",
    "\n",
    "# to calculate the alive neighbors\n",
    "def count_live_neighbors(grid, x, y, width, height):\n",
    "    # the neighbor matrix\n",
    "    neighbors = np.array([\n",
    "        (-1, -1), (-1, 0), (-1, 1),\n",
    "        (0, -1),           (0, 1),\n",
    "        (1, -1),  (1, 0),  (1, 1)\n",
    "    ])\n",
    "    # initialize the count\n",
    "    count = 0\n",
    "    # loop all possible neighbors\n",
    "    for dx, dy in neighbors:\n",
    "        nx, ny = x + dx, y + dy\n",
    "        # if its neighbor doesn't go beyond the boundary and is alive \n",
    "        if 0 <= nx < width and 0 <= ny < height and grid[ny][nx]==1:\n",
    "            count += 1\n",
    "\n",
    "    return count\n",
    "\n",
    "# update the gird\n",
    "def update_grid(grid):\n",
    "    # Get height and width\n",
    "    height = len(grid)\n",
    "    width = len(grid[0])\n",
    "    new_grid = np.array([[0] * width for _ in range(height)])\n",
    "\n",
    "    #apply the rule\n",
    "    for y in range(height):\n",
    "        for x in range(width):\n",
    "            live_neighbors = count_live_neighbors(grid, x, y, width, height)\n",
    "\n",
    "            if grid[y][x] == 1:\n",
    "                # Live cell\n",
    "                if live_neighbors == 2 or live_neighbors == 3:\n",
    "                    new_grid[y][x] = 1\n",
    "            else:\n",
    "                # Dead cell\n",
    "                if live_neighbors == 3:\n",
    "                    new_grid[y][x] = 1\n",
    "\n",
    "    return new_grid\n",
    "\n",
    "\n",
    "# run the game\n",
    "def run_game(input_name, output_name, generations, chunksize):\n",
<<<<<<< HEAD
    "    grid = load_grid_from_file(input_name)\n",
    "    print('finish')\n",
    "    # start = time.time()\n",
    "    # Dask compute\n",
    "    client = Client()\n",
    "    grid_da = da.from_array(grid, chunks=(chunksize[0], chunksize[1]))\n",
    "    for _ in range(generations):   \n",
    "        grid_da = grid_da.map_overlap(update_grid, depth=1, boundary=\"none\")\n",
    "        # print(\"{} seconds elapsed for {} generations.\".format(round(time.time() - start, 5), _))\n",
    "    # Dask compute\n",
    "    grid = grid_da.compute(scheduler='distributed')\n",
    "    client.cancel(grid_da)\n",
    "    client.shutdown()\n",
=======
    "    grid = load_grid_from_file(input_name) \n",
    "    # start = time.time()\n",
    "    # Dask compute\n",
    "    grid_da = da.from_array(grid, chunks=(chunksize[0], chunksize[1]))\n",
    "    for _ in range(generations):\n",
    "        grid_da = grid_da.map_overlap(update_grid, depth=1, boundary=\"none\")\n",
    "        #print(\"{} seconds elapsed for {} generations.\".format(round(time.time() - start, 5), _))\n",
    "    # Dask compute\n",
    "    grid = grid_da.compute()\n",
>>>>>>> 6a316ae4e1b24d09f6d3739fe3fcbd0766e7a80f
    "    save_grid_to_file(output_name, grid)\n",
    "    return grid\n"
   ]
  },
  {
   "cell_type": "code",
<<<<<<< HEAD
   "execution_count": 39,
=======
   "execution_count": 2,
>>>>>>> 6a316ae4e1b24d09f6d3739fe3fcbd0766e7a80f
   "metadata": {},
   "outputs": [
    {
     "name": "stdout",
     "output_type": "stream",
     "text": [
<<<<<<< HEAD
      "finish\n"
     ]
    },
    {
     "name": "stderr",
     "output_type": "stream",
     "text": [
      "/Users/yokosukamori/Library/CloudStorage/OneDrive-UniversityofTwente/Geo-Bigdata-Processing/Game_of_Life/Rispy/lib/python3.9/site-packages/distributed/node.py:182: UserWarning: Port 8787 is already in use.\n",
      "Perhaps you already have a cluster running?\n",
      "Hosting the HTTP server on port 61203 instead\n",
      "  warnings.warn(\n"
     ]
    },
    {
     "name": "stdout",
     "output_type": "stream",
     "text": [
      "[[0 0 0 ... 0 0 0]\n",
      " [0 0 1 ... 0 0 0]\n",
      " [0 0 0 ... 0 0 0]\n",
      " ...\n",
      " [0 0 0 ... 1 0 0]\n",
=======
      "[[0 0 0 ... 0 0 0]\n",
      " [0 0 0 ... 0 0 0]\n",
      " [0 0 0 ... 0 0 0]\n",
      " ...\n",
      " [0 0 0 ... 0 0 0]\n",
>>>>>>> 6a316ae4e1b24d09f6d3739fe3fcbd0766e7a80f
      " [0 0 0 ... 0 0 0]\n",
      " [0 0 0 ... 0 0 0]]\n"
     ]
    }
   ],
   "source": [
    "## main function\n",
    "if __name__ == \"__main__\":\n",
    "    input_name = \"test_data/1000x1000.txt\"\n",
    "    output_name = \"test_data/output.txt\"\n",
<<<<<<< HEAD
    "    generations = 1\n",
    "    chunksize = [500,500]\n",
=======
    "    generations = 2\n",
    "    chunksize = [100,100]\n",
>>>>>>> 6a316ae4e1b24d09f6d3739fe3fcbd0766e7a80f
    "    grid = run_game(input_name, output_name, generations, chunksize)\n",
    "print(grid)"
   ]
  }
 ],
 "metadata": {
  "kernelspec": {
   "display_name": "Python 3",
   "language": "python",
   "name": "python3"
  },
  "language_info": {
   "codemirror_mode": {
    "name": "ipython",
    "version": 3
   },
   "file_extension": ".py",
   "mimetype": "text/x-python",
   "name": "python",
   "nbconvert_exporter": "python",
   "pygments_lexer": "ipython3",
   "version": "3.9.6"
  },
  "orig_nbformat": 4
 },
 "nbformat": 4,
 "nbformat_minor": 2
}
