{
 "cells": [
  {
   "cell_type": "markdown",
   "metadata": {},
   "source": [
    "# Group Assignment 1"
   ]
  },
  {
   "cell_type": "markdown",
   "metadata": {},
   "source": [
    "## Implementation of Game of Life with(out) DASK\n",
    "The cell below contains the implementation of the Game of Life with and without DASK. The detailed description of the implementation is given seperately in read.me."
   ]
  },
  {
   "cell_type": "code",
   "execution_count": null,
   "metadata": {},
   "outputs": [],
   "source": [
    "import numpy as np\n",
    "import dask\n",
    "import dask.array as da\n",
    "from dask.distributed import Client\n",
    "\n",
    "# Read the grid in the text file\n",
    "def load_grid_from_file(input_file):\n",
    "    with open(input_file) as f:\n",
    "        width, height = map(int, f.readline().split())\n",
    "        # Make a grid with size of height and width\n",
    "        grid = []\n",
    "        for r in range(height):\n",
    "            grid.append([0] * width)\n",
    "        # Read the index into the grid\n",
    "        for line in f: \n",
    "            value= line.split() \n",
    "            if len(value) >= 2:\n",
    "                y, x = map(int, value[:2])\n",
    "                grid[y][x] = 1\n",
    "            else:\n",
    "                print(\"Line doesn't contain two values, check for floating lines at the bottom of file\")\n",
    "        grid = np.array(grid)\n",
    "    return grid\n",
    "\n",
    "# save the grid to the text file\n",
    "def save_grid_to_file(output_file, grid):\n",
    "    with open(output_file, \"w\") as f:\n",
    "        height = len(grid)\n",
    "        width = len(grid[0])\n",
    "        f.write(f\"{width} {height}\\n\")\n",
    "        for y, row in enumerate(grid):\n",
    "            for x, cell in enumerate(row):\n",
    "                if cell:\n",
    "                    f.write(f\"{y} {x}\\n\")\n",
    "\n",
    "# to calculate the alive neighbors\n",
    "def count_live_neighbors(grid, x, y, width, height):\n",
    "    # the neighbor matrix\n",
    "    neighbors = np.array([\n",
    "        (-1, -1), (-1, 0), (-1, 1),\n",
    "        (0, -1),           (0, 1),\n",
    "        (1, -1),  (1, 0),  (1, 1)\n",
    "    ])\n",
    "    # initialize the count\n",
    "    count = 0\n",
    "    # loop all possible neighbors\n",
    "    for dx, dy in neighbors:\n",
    "        nx, ny = x + dx, y + dy\n",
    "        # if its neighbor doesn't go beyond the boundary and is alive \n",
    "        if 0 <= nx < width and 0 <= ny < height and grid[ny][nx]==1:\n",
    "            count += 1\n",
    "\n",
    "    return count\n",
    "\n",
    "# update the gird\n",
    "def update_grid(grid):\n",
    "    # Get height and width\n",
    "    height = len(grid)\n",
    "    width = len(grid[0])\n",
    "    new_grid = np.array([[0] * width for _ in range(height)])\n",
    "\n",
    "    #apply the rule\n",
    "    for y in range(height):\n",
    "        for x in range(width):\n",
    "            live_neighbors = count_live_neighbors(grid, x, y, width, height)\n",
    "\n",
    "            if grid[y][x] == 1:\n",
    "                # Live cell\n",
    "                if live_neighbors == 2 or live_neighbors == 3:\n",
    "                    new_grid[y][x] = 1\n",
    "            else:\n",
    "                # Dead cell\n",
    "                if live_neighbors == 3:\n",
    "                    new_grid[y][x] = 1\n",
    "\n",
    "    return new_grid\n",
    "\n",
    "# run game with DASK\n",
    "def run_game(input_name, output_name, generations, chunksize):\n",
    "    # Load the grid from the file\n",
    "    grid = load_grid_from_file(input_name)\n",
    "    # Dask compute\n",
    "    grid_da = da.from_array(grid, chunks=(chunksize[0], chunksize[1]))\n",
    "    for _ in range(generations):   \n",
    "        grid_da = grid_da.map_overlap(update_grid, depth=1, boundary=\"none\")\n",
    "    grid = grid_da.compute()\n",
    "\n",
    "    save_grid_to_file(output_name, grid)\n",
    "    return grid\n",
    "\n",
    "# run the game without DASK\n",
    "def run_game_no_dask(input_name, output_name, generations):\n",
    "    grid = load_grid_from_file(input_name)\n",
    "    for _ in range(generations):\n",
    "        grid = update_grid(grid)\n",
    "    save_grid_to_file(output_name, grid)\n",
    "    return grid"
   ]
  },
  {
   "cell_type": "markdown",
   "metadata": {},
   "source": [
    "This cell contains the main function of the implementation with DASK. If you want to run the came with DASK, please specify all the paramters here."
   ]
  },
  {
   "cell_type": "code",
   "execution_count": null,
   "metadata": {},
   "outputs": [],
   "source": [
    "## main function with DASK\n",
    "dask.config.set(scheduler='processes')\n",
    "# client=Client()\n",
    "if __name__ == \"__main__\":\n",
    "    input_name = \"test_data/1000x1000.txt\"\n",
    "    output_name = \"test_data/output.txt\"\n",
    "    generations = 2\n",
    "    chunksize = (500, 500)\n",
    "    grid = run_game(input_name, output_name, generations, chunksize)\n",
    "# client.shutdown()\n",
    "print(grid)"
   ]
  },
  {
   "cell_type": "markdown",
   "metadata": {},
   "source": [
    "This cell contains the main function of the implementation without DASK. If you want to run the came with DASK, please specify all the paramters here."
   ]
  },
  {
   "cell_type": "code",
   "execution_count": null,
   "metadata": {},
   "outputs": [],
   "source": [
    "## main function without DASK\n",
    "if __name__ == \"__main__\":\n",
    "    input_name = \"test_data/1000x1000.txt\"\n",
    "    output_name = \"test_data/output.txt\"\n",
    "    generations = 2\n",
    "    grid = run_game_no_dask(input_name, output_name, generations)\n",
    "print(grid)"
   ]
  },
  {
   "cell_type": "markdown",
   "metadata": {},
   "source": [
    "## Benchmarking and Comparison  \n",
    "One of objectives of this assignment was to compare the difference between non-parallel and parallel implementation of Conway's Game of Life. In this process we learned more about how different parameters and computational structures affect processing. For this we ran game_dask.py and game_no_dask.py using three different profilers: memory profiler, cProfiler and line_profiler. In addition we ran a comparative analaysis of game_dask.py by looking at how grid sizes, schedulers, and chunk size impacted preformance. \n"
   ]
  },
  {
   "cell_type": "markdown",
   "metadata": {},
   "source": [
    "### Selection of Parameters for Benchmarking and Comparison\n",
    "The following table provides information on the time taken by the different schedulers to do the computation for different chunk sizes. For the assignment, chunk size 100 was selected as it performed the best as compared to chunk sizes 50 and 10. \n",
    "\n",
    "Threads and synchronous provide take the most time. Although threads introduces very little overhead, the reason for it taking more time could be Python’s global interpreter lock (GIL) lock as the code is entirely python-based. It can be seen that ‘processes’ performs the fastest for the computation, possible because it is able to bypass the issues with GIL and provide parallelism. It can also be seen that distributed scheduler takes more time than processes. This could be because distributed scheduler introduces more overhead due to communication and transfer between different processes. \n",
    "\n",
    "![timing_table.png](Image/timing_table.png)\n"
   ]
  },
  {
   "cell_type": "markdown",
   "metadata": {},
   "source": [
    "#### cProfiler\n",
    "The first image is the cProfiler for the game_no_dask.py and the second image is the cProfiler for the game_dask.py, with the scheduler being processer. Game_no_dask.py has several large functions that take up most of the run time, whereas game_dask.py seems to have more overhead. This is also reflected in the time it takes to run through one tick. It took game_no_dask.py 14.5s and game_dask.py 26.6s. \n",
    "\n",
    "![no_dask_c.png](Image/no_dask_c.png)\n",
    "\n",
    "![dask_c.png](Image/dask_c.png)\n",
    "\n",
    "When we increased the gerneations/ticks to 4 we see that the general time pattern is the same but more dramatic. The first image below is the game_no_dask.py ran again and the second image is game_dask.py. We see that a large function still takes up most of the time, the smaller functions all but disapear for game_no_dask.py and have relatively less present for game_dask.py. One notable change is that with more generations game_dask.py produced a faster result. \n",
    "\n",
    "![nodask_c_4.png](Image/nodask_c_4.png)\n",
    "\n",
    "![dask_c_4.png](Image/dask_c_4.png)\n"
   ]
  },
  {
   "cell_type": "markdown",
   "metadata": {},
   "source": [
    "#### Kern Line Profiler (kernprof) \n",
    "The first image below is the results of the line profiler looking at key functions in game_no_dask.py and the second image below is the results of the line profiler looking at key functions in game_dask.py. Most note worth is the fact that we can see in the game_no_dask.py the lines related to neighbor comparison are ran once for each cell in the grid.  In comparison to game_dask.py, of the main functions no line was ran more than nine times.  The function for comparing neighbors was reviewed once and then reviewing the count of neighboring cells happened 8 times, for all the possible neighbors for a grid cell.  \n",
    "\n",
    "![lineP_nodask.png](Image/lineP_nodask.png)\n",
    "\n",
    "![lineP_dask.png](Image/lineP_dask.png)\n"
   ]
  },
  {
   "cell_type": "markdown",
   "metadata": {},
   "source": [
    "### Dask Dashboard Observations \n",
    "The progress bar below shows the progress of every individual task, namely- getitem, trim, block-info, overlap and array. The check grey section are the tasks that are ready to be run but are not running (if we have more cores, they would be running). The solid colored piece to the left are the completed tasks sitting in the memory and the right-most colors represent the completed tasks that have been realsed from the memory.\n",
    "\n",
    "![key.jpg](Image/key.jpg)\n"
   ]
  },
  {
   "cell_type": "markdown",
   "metadata": {},
   "source": [
    "The task stream below shows the activity of every thread or core across our cluster over time. Every rectangle corresponds to one task. The white spaces correspond to the dead time and the red tasks indicate that there is some communication happening with other tasks that are present in the stream.\n",
    "\n",
    "![dask_stream.png](Image/dask_stream.png)\n",
    "\n",
    "The two task streams show that tasks in the bigger grid had less inter-communication (the red rectangles) as compared to the tasks from smaller grid. This could possibly be as big data allows for more parallelism as compared to smaller data size. This could also be because smaller data results in smaller tasks leading to more overhead in terms of scheduling and communication. Big data is more efficiently distributed across different workers, reducing communication overhead. Reference link- https://docs.dask.org/en/latest/dashboard.html\n"
   ]
  },
  {
   "cell_type": "markdown",
   "metadata": {},
   "source": [
    "In the task stream we see information about one task but cannot know what is happening within the task and python function. The profile shows the functions (as horizontal bars) within each task along with the other functions that depend and follow other functions. However, only unless you hover over each bar, would you know the function, which is why they are not included here. The graphs below show the activity overtime for the two different grid sizes, bigger size grid having more dynamic progress as compared to smaller grid size.\n",
    "\n",
    "![activity_over_time_diff_grid.png](Image/activity_over_time_diff_grid.png)\n"
   ]
  }
 ],
 "metadata": {
  "kernelspec": {
   "display_name": "Rispy",
   "language": "python",
   "name": "python3"
  },
  "language_info": {
   "codemirror_mode": {
    "name": "ipython",
    "version": 3
   },
   "file_extension": ".py",
   "mimetype": "text/x-python",
   "name": "python",
   "nbconvert_exporter": "python",
   "pygments_lexer": "ipython3",
   "version": "3.9.6"
  },
  "orig_nbformat": 4
 },
 "nbformat": 4,
 "nbformat_minor": 2
}
